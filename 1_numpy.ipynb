{
  "nbformat": 4,
  "nbformat_minor": 0,
  "metadata": {
    "colab": {
      "provenance": [],
      "toc_visible": true,
      "authorship_tag": "ABX9TyN7cwVV0govMm5bVwya7G+2",
      "include_colab_link": true
    },
    "kernelspec": {
      "name": "python3",
      "display_name": "Python 3"
    },
    "language_info": {
      "name": "python"
    }
  },
  "cells": [
    {
      "cell_type": "markdown",
      "metadata": {
        "id": "view-in-github",
        "colab_type": "text"
      },
      "source": [
        "<a href=\"https://colab.research.google.com/github/sjagadee/eda2/blob/main/1_numpy.ipynb\" target=\"_parent\"><img src=\"https://colab.research.google.com/assets/colab-badge.svg\" alt=\"Open In Colab\"/></a>"
      ]
    },
    {
      "cell_type": "markdown",
      "source": [
        "# Numpy Essentials"
      ],
      "metadata": {
        "id": "zqMuebeK6k8Q"
      }
    },
    {
      "cell_type": "code",
      "execution_count": null,
      "metadata": {
        "id": "O_7_b5Gs6AFy"
      },
      "outputs": [],
      "source": [
        "import numpy as np\n",
        "import matplotlib.pyplot as plt"
      ]
    },
    {
      "cell_type": "markdown",
      "source": [
        "## Creating Arrays"
      ],
      "metadata": {
        "id": "33tDecX96kGL"
      }
    },
    {
      "cell_type": "code",
      "source": [
        "# Create arrays using some input array\n",
        "\n",
        "a1 = np.array([1,2,3,4])\n",
        "print(a1)"
      ],
      "metadata": {
        "colab": {
          "base_uri": "https://localhost:8080/"
        },
        "id": "ABK58WyP6gk6",
        "outputId": "6a5e2ffa-2b3b-4427-d5c5-f0993d287124"
      },
      "execution_count": null,
      "outputs": [
        {
          "output_type": "stream",
          "name": "stdout",
          "text": [
            "[1 2 3 4]\n"
          ]
        }
      ]
    },
    {
      "cell_type": "code",
      "source": [
        "# Create zero arrays\n",
        "\n",
        "a2 = np.zeros(10)\n",
        "print(a2)\n",
        "\n",
        "a2 = np.zeros([10, 10])\n",
        "print(a2)"
      ],
      "metadata": {
        "colab": {
          "base_uri": "https://localhost:8080/"
        },
        "id": "gGWXZkwD6xJd",
        "outputId": "376f1182-31dc-4e8b-ba9f-d55aac0891e0"
      },
      "execution_count": null,
      "outputs": [
        {
          "output_type": "stream",
          "name": "stdout",
          "text": [
            "[0. 0. 0. 0. 0. 0. 0. 0. 0. 0.]\n",
            "[[0. 0. 0. 0. 0. 0. 0. 0. 0. 0.]\n",
            " [0. 0. 0. 0. 0. 0. 0. 0. 0. 0.]\n",
            " [0. 0. 0. 0. 0. 0. 0. 0. 0. 0.]\n",
            " [0. 0. 0. 0. 0. 0. 0. 0. 0. 0.]\n",
            " [0. 0. 0. 0. 0. 0. 0. 0. 0. 0.]\n",
            " [0. 0. 0. 0. 0. 0. 0. 0. 0. 0.]\n",
            " [0. 0. 0. 0. 0. 0. 0. 0. 0. 0.]\n",
            " [0. 0. 0. 0. 0. 0. 0. 0. 0. 0.]\n",
            " [0. 0. 0. 0. 0. 0. 0. 0. 0. 0.]\n",
            " [0. 0. 0. 0. 0. 0. 0. 0. 0. 0.]]\n"
          ]
        }
      ]
    },
    {
      "cell_type": "code",
      "source": [
        "# Create ones array\n",
        "\n",
        "a3 = np.ones(10)\n",
        "print(a3)\n",
        "\n",
        "a3 = np.ones(\n",
        "    [5,5]\n",
        ")\n",
        "print(a3)"
      ],
      "metadata": {
        "colab": {
          "base_uri": "https://localhost:8080/"
        },
        "id": "r4aCzZ9467S0",
        "outputId": "5fc49c6b-ea50-4744-ac60-5587d2e5e199"
      },
      "execution_count": null,
      "outputs": [
        {
          "output_type": "stream",
          "name": "stdout",
          "text": [
            "[1. 1. 1. 1. 1. 1. 1. 1. 1. 1.]\n",
            "[[1. 1. 1. 1. 1.]\n",
            " [1. 1. 1. 1. 1.]\n",
            " [1. 1. 1. 1. 1.]\n",
            " [1. 1. 1. 1. 1.]\n",
            " [1. 1. 1. 1. 1.]]\n"
          ]
        }
      ]
    },
    {
      "cell_type": "code",
      "source": [
        "# create a random array\n",
        "\n",
        "a4 = np.random.random(10)\n",
        "print(a4)\n",
        "\n",
        "a4 = np.random.random([5, 5])\n",
        "print(a4)\n"
      ],
      "metadata": {
        "colab": {
          "base_uri": "https://localhost:8080/"
        },
        "id": "FMvayHhs7C5C",
        "outputId": "bb13e507-549f-4cac-9ae7-ba9e97383acc"
      },
      "execution_count": null,
      "outputs": [
        {
          "output_type": "stream",
          "name": "stdout",
          "text": [
            "[0.71204664 0.57980778 0.91727212 0.20190003 0.54869841 0.16947627\n",
            " 0.02651944 0.68025523 0.10431856 0.56624825]\n",
            "[[0.47584517 0.42464605 0.73929377 0.9666483  0.95909069]\n",
            " [0.49205572 0.15446377 0.95429847 0.97769549 0.93701487]\n",
            " [0.77942634 0.80812929 0.83282115 0.39481394 0.39430753]\n",
            " [0.90272592 0.48795247 0.538639   0.77204211 0.90331844]\n",
            " [0.98674732 0.51391725 0.22628615 0.7946319  0.22862261]]\n"
          ]
        }
      ]
    },
    {
      "cell_type": "code",
      "source": [
        "# create a random array with normal distribution\n",
        "\n",
        "# for normal distribution we can only have 1D list\n",
        "a5 = np.random.randn(10)\n",
        "a5"
      ],
      "metadata": {
        "colab": {
          "base_uri": "https://localhost:8080/"
        },
        "id": "syaGIB0g7eWX",
        "outputId": "85dd391a-47ef-4cfc-9a1f-ffad19202e8f"
      },
      "execution_count": null,
      "outputs": [
        {
          "output_type": "execute_result",
          "data": {
            "text/plain": [
              "array([ 1.47838973,  0.36497885, -0.44188162, -0.09149126,  0.60520315,\n",
              "        0.33529892,  0.9598523 , -0.34898002,  1.32233401,  1.09886352])"
            ]
          },
          "metadata": {},
          "execution_count": 10
        }
      ]
    },
    {
      "cell_type": "code",
      "source": [
        "# creating a continuous elements that are equally spaced - generating specified number of elements\n",
        "a6 = np.linspace(0, 10, 100) # start number, end number, count/ number of elements\n",
        "a6"
      ],
      "metadata": {
        "colab": {
          "base_uri": "https://localhost:8080/"
        },
        "id": "4DHrKJB97oYC",
        "outputId": "3267f12e-8ca9-47c1-abde-9f3d8fb8d210"
      },
      "execution_count": null,
      "outputs": [
        {
          "output_type": "execute_result",
          "data": {
            "text/plain": [
              "array([ 0.        ,  0.1010101 ,  0.2020202 ,  0.3030303 ,  0.4040404 ,\n",
              "        0.50505051,  0.60606061,  0.70707071,  0.80808081,  0.90909091,\n",
              "        1.01010101,  1.11111111,  1.21212121,  1.31313131,  1.41414141,\n",
              "        1.51515152,  1.61616162,  1.71717172,  1.81818182,  1.91919192,\n",
              "        2.02020202,  2.12121212,  2.22222222,  2.32323232,  2.42424242,\n",
              "        2.52525253,  2.62626263,  2.72727273,  2.82828283,  2.92929293,\n",
              "        3.03030303,  3.13131313,  3.23232323,  3.33333333,  3.43434343,\n",
              "        3.53535354,  3.63636364,  3.73737374,  3.83838384,  3.93939394,\n",
              "        4.04040404,  4.14141414,  4.24242424,  4.34343434,  4.44444444,\n",
              "        4.54545455,  4.64646465,  4.74747475,  4.84848485,  4.94949495,\n",
              "        5.05050505,  5.15151515,  5.25252525,  5.35353535,  5.45454545,\n",
              "        5.55555556,  5.65656566,  5.75757576,  5.85858586,  5.95959596,\n",
              "        6.06060606,  6.16161616,  6.26262626,  6.36363636,  6.46464646,\n",
              "        6.56565657,  6.66666667,  6.76767677,  6.86868687,  6.96969697,\n",
              "        7.07070707,  7.17171717,  7.27272727,  7.37373737,  7.47474747,\n",
              "        7.57575758,  7.67676768,  7.77777778,  7.87878788,  7.97979798,\n",
              "        8.08080808,  8.18181818,  8.28282828,  8.38383838,  8.48484848,\n",
              "        8.58585859,  8.68686869,  8.78787879,  8.88888889,  8.98989899,\n",
              "        9.09090909,  9.19191919,  9.29292929,  9.39393939,  9.49494949,\n",
              "        9.5959596 ,  9.6969697 ,  9.7979798 ,  9.8989899 , 10.        ])"
            ]
          },
          "metadata": {},
          "execution_count": 7
        }
      ]
    },
    {
      "cell_type": "code",
      "source": [
        "# creating a continuous elements that are equally spaced - generating specified based on interval specfied\n",
        "\n",
        "a7 = np.arange(0, 10, 0.05) # start number, end number, interval\n",
        "a7"
      ],
      "metadata": {
        "colab": {
          "base_uri": "https://localhost:8080/"
        },
        "id": "j-i4EyY2BTZB",
        "outputId": "38c1999f-e91e-45bb-896a-8ef4abc3fd82"
      },
      "execution_count": null,
      "outputs": [
        {
          "output_type": "execute_result",
          "data": {
            "text/plain": [
              "array([0.  , 0.05, 0.1 , 0.15, 0.2 , 0.25, 0.3 , 0.35, 0.4 , 0.45, 0.5 ,\n",
              "       0.55, 0.6 , 0.65, 0.7 , 0.75, 0.8 , 0.85, 0.9 , 0.95, 1.  , 1.05,\n",
              "       1.1 , 1.15, 1.2 , 1.25, 1.3 , 1.35, 1.4 , 1.45, 1.5 , 1.55, 1.6 ,\n",
              "       1.65, 1.7 , 1.75, 1.8 , 1.85, 1.9 , 1.95, 2.  , 2.05, 2.1 , 2.15,\n",
              "       2.2 , 2.25, 2.3 , 2.35, 2.4 , 2.45, 2.5 , 2.55, 2.6 , 2.65, 2.7 ,\n",
              "       2.75, 2.8 , 2.85, 2.9 , 2.95, 3.  , 3.05, 3.1 , 3.15, 3.2 , 3.25,\n",
              "       3.3 , 3.35, 3.4 , 3.45, 3.5 , 3.55, 3.6 , 3.65, 3.7 , 3.75, 3.8 ,\n",
              "       3.85, 3.9 , 3.95, 4.  , 4.05, 4.1 , 4.15, 4.2 , 4.25, 4.3 , 4.35,\n",
              "       4.4 , 4.45, 4.5 , 4.55, 4.6 , 4.65, 4.7 , 4.75, 4.8 , 4.85, 4.9 ,\n",
              "       4.95, 5.  , 5.05, 5.1 , 5.15, 5.2 , 5.25, 5.3 , 5.35, 5.4 , 5.45,\n",
              "       5.5 , 5.55, 5.6 , 5.65, 5.7 , 5.75, 5.8 , 5.85, 5.9 , 5.95, 6.  ,\n",
              "       6.05, 6.1 , 6.15, 6.2 , 6.25, 6.3 , 6.35, 6.4 , 6.45, 6.5 , 6.55,\n",
              "       6.6 , 6.65, 6.7 , 6.75, 6.8 , 6.85, 6.9 , 6.95, 7.  , 7.05, 7.1 ,\n",
              "       7.15, 7.2 , 7.25, 7.3 , 7.35, 7.4 , 7.45, 7.5 , 7.55, 7.6 , 7.65,\n",
              "       7.7 , 7.75, 7.8 , 7.85, 7.9 , 7.95, 8.  , 8.05, 8.1 , 8.15, 8.2 ,\n",
              "       8.25, 8.3 , 8.35, 8.4 , 8.45, 8.5 , 8.55, 8.6 , 8.65, 8.7 , 8.75,\n",
              "       8.8 , 8.85, 8.9 , 8.95, 9.  , 9.05, 9.1 , 9.15, 9.2 , 9.25, 9.3 ,\n",
              "       9.35, 9.4 , 9.45, 9.5 , 9.55, 9.6 , 9.65, 9.7 , 9.75, 9.8 , 9.85,\n",
              "       9.9 , 9.95])"
            ]
          },
          "metadata": {},
          "execution_count": 8
        }
      ]
    },
    {
      "cell_type": "markdown",
      "source": [
        "## Array Operations"
      ],
      "metadata": {
        "id": "TU6ukeMDCf_1"
      }
    },
    {
      "cell_type": "code",
      "source": [
        "a1"
      ],
      "metadata": {
        "colab": {
          "base_uri": "https://localhost:8080/"
        },
        "id": "fnN6hMXdCVjm",
        "outputId": "8d769555-9060-4d7f-9931-86a754c43d5f"
      },
      "execution_count": null,
      "outputs": [
        {
          "output_type": "execute_result",
          "data": {
            "text/plain": [
              "array([1, 2, 3, 4])"
            ]
          },
          "metadata": {},
          "execution_count": 9
        }
      ]
    },
    {
      "cell_type": "code",
      "source": [
        "# multiply each element in a numpy array with a given number and outputs it in an array format\n",
        "\n",
        "2 * a1"
      ],
      "metadata": {
        "colab": {
          "base_uri": "https://localhost:8080/"
        },
        "id": "IxBp1rLZCk1X",
        "outputId": "061c1e3e-77e9-4f2f-d947-89009971906a"
      },
      "execution_count": null,
      "outputs": [
        {
          "output_type": "execute_result",
          "data": {
            "text/plain": [
              "array([2, 4, 6, 8])"
            ]
          },
          "metadata": {},
          "execution_count": 10
        }
      ]
    },
    {
      "cell_type": "code",
      "source": [
        "# divide each element in a numpy array with a given number and outputs it in an array format\n",
        "\n",
        "1 / a1"
      ],
      "metadata": {
        "colab": {
          "base_uri": "https://localhost:8080/"
        },
        "id": "WtL4LZkUCwv5",
        "outputId": "b92181b2-e9b6-4f35-c308-e5892e0188e5"
      },
      "execution_count": null,
      "outputs": [
        {
          "output_type": "execute_result",
          "data": {
            "text/plain": [
              "array([1.        , 0.5       , 0.33333333, 0.25      ])"
            ]
          },
          "metadata": {},
          "execution_count": 11
        }
      ]
    },
    {
      "cell_type": "code",
      "source": [
        "# boolean operation\n",
        "\n",
        "a1 > 3"
      ],
      "metadata": {
        "colab": {
          "base_uri": "https://localhost:8080/"
        },
        "id": "1lrxXKQoC_7p",
        "outputId": "b7d5e2f1-dd97-4ba6-9831-8c1f266594bb"
      },
      "execution_count": null,
      "outputs": [
        {
          "output_type": "execute_result",
          "data": {
            "text/plain": [
              "array([False, False, False,  True])"
            ]
          },
          "metadata": {},
          "execution_count": 12
        }
      ]
    },
    {
      "cell_type": "code",
      "source": [
        "# Plotting\n",
        "x = np.linspace(0, 1, 100)\n",
        "y = x ** 2"
      ],
      "metadata": {
        "id": "83k_tGuYDURb"
      },
      "execution_count": null,
      "outputs": []
    },
    {
      "cell_type": "code",
      "source": [
        "plt.plot(x, y)"
      ],
      "metadata": {
        "colab": {
          "base_uri": "https://localhost:8080/",
          "height": 448
        },
        "id": "32q6ZvOjMInp",
        "outputId": "2bf7b8eb-1ce0-4450-9545-5c0abd4104b8"
      },
      "execution_count": null,
      "outputs": [
        {
          "output_type": "execute_result",
          "data": {
            "text/plain": [
              "[<matplotlib.lines.Line2D at 0x78d64a053550>]"
            ]
          },
          "metadata": {},
          "execution_count": 14
        },
        {
          "output_type": "display_data",
          "data": {
            "text/plain": [
              "<Figure size 640x480 with 1 Axes>"
            ],
            "image/png": "[encoded data removed]"
          },
          "metadata": {}
        }
      ]
    },
    {
      "cell_type": "code",
      "source": [
        "# plotting histogram\n",
        "plt.hist(a4)"
      ],
      "metadata": {
        "colab": {
          "base_uri": "https://localhost:8080/",
          "height": 519
        },
        "id": "i5wNXmVRMW05",
        "outputId": "ce420f85-831d-47f0-d70c-1a3bea255f56"
      },
      "execution_count": null,
      "outputs": [
        {
          "output_type": "execute_result",
          "data": {
            "text/plain": [
              "(array([2., 0., 1., 1., 4., 0., 1., 0., 0., 1.]),\n",
              " array([0.04753136, 0.13789977, 0.22826818, 0.3186366 , 0.40900501,\n",
              "        0.49937342, 0.58974184, 0.68011025, 0.77047867, 0.86084708,\n",
              "        0.95121549]),\n",
              " <BarContainer object of 10 artists>)"
            ]
          },
          "metadata": {},
          "execution_count": 15
        },
        {
          "output_type": "display_data",
          "data": {
            "text/plain": [
              "<Figure size 640x480 with 1 Axes>"
            ],
            "image/png": "[encoded data removed]"
          },
          "metadata": {}
        }
      ]
    },
    {
      "cell_type": "code",
      "source": [
        "# chaining\n",
        "\n",
        "def f(x):\n",
        "    return x**2 * np.sin(x) / np.exp(-x)"
      ],
      "metadata": {
        "id": "MKQ5mun2MyuG"
      },
      "execution_count": null,
      "outputs": []
    },
    {
      "cell_type": "code",
      "source": [
        "x = np.linspace(0, 10, 100)\n",
        "y = f(x)"
      ],
      "metadata": {
        "id": "DouGe3sLNEyK"
      },
      "execution_count": null,
      "outputs": []
    },
    {
      "cell_type": "code",
      "source": [
        "plt.plot(x, y)\n"
      ],
      "metadata": {
        "colab": {
          "base_uri": "https://localhost:8080/",
          "height": 463
        },
        "id": "RxRLUuhzNLOh",
        "outputId": "82041a0b-12ce-460d-f75e-5aa7ea937f98"
      },
      "execution_count": null,
      "outputs": [
        {
          "output_type": "execute_result",
          "data": {
            "text/plain": [
              "[<matplotlib.lines.Line2D at 0x78d648b70390>]"
            ]
          },
          "metadata": {},
          "execution_count": 18
        },
        {
          "output_type": "display_data",
          "data": {
            "text/plain": [
              "<Figure size 640x480 with 1 Axes>"
            ],
            "image/png": "[encoded data removed]"
          },
          "metadata": {}
        }
      ]
    },
    {
      "cell_type": "markdown",
      "source": [
        "https://numpy.org/doc/stable/reference/routines.math.html"
      ],
      "metadata": {
        "id": "YBiI3437PfbS"
      }
    },
    {
      "cell_type": "markdown",
      "source": [
        "## Array Indexing and Slicing"
      ],
      "metadata": {
        "id": "VszTdNG1fIpc"
      }
    },
    {
      "cell_type": "markdown",
      "source": [
        "### 1D Slicing"
      ],
      "metadata": {
        "id": "Hs97pgx4sEFD"
      }
    },
    {
      "cell_type": "code",
      "source": [
        "a1 = np.array([2, 4, 6, 8, 10, 12])"
      ],
      "metadata": {
        "id": "RaHHySIWNMZp"
      },
      "execution_count": null,
      "outputs": []
    },
    {
      "cell_type": "code",
      "source": [
        "# get an element through index\n",
        "a1[2]"
      ],
      "metadata": {
        "colab": {
          "base_uri": "https://localhost:8080/"
        },
        "id": "RENd8sItfVyD",
        "outputId": "283dc9b2-72c8-404e-ea5a-210ed6568ff3"
      },
      "execution_count": null,
      "outputs": [
        {
          "output_type": "execute_result",
          "data": {
            "text/plain": [
              "np.int64(6)"
            ]
          },
          "metadata": {},
          "execution_count": 20
        }
      ]
    },
    {
      "cell_type": "code",
      "source": [
        "# get a part of the array (last 3 elements)\n",
        "a1[3:]"
      ],
      "metadata": {
        "colab": {
          "base_uri": "https://localhost:8080/"
        },
        "id": "nyz4ZbOEfeN0",
        "outputId": "4c106478-b277-464b-cb89-3e8d3399ccbe"
      },
      "execution_count": null,
      "outputs": [
        {
          "output_type": "execute_result",
          "data": {
            "text/plain": [
              "array([ 8, 10, 12])"
            ]
          },
          "metadata": {},
          "execution_count": 21
        }
      ]
    },
    {
      "cell_type": "code",
      "source": [
        "# get first 3 elements\n",
        "a1[:3]"
      ],
      "metadata": {
        "colab": {
          "base_uri": "https://localhost:8080/"
        },
        "id": "wnisR-Fafo9x",
        "outputId": "19882a99-ea6f-4153-8ad7-0ab9006d4e1e"
      },
      "execution_count": null,
      "outputs": [
        {
          "output_type": "execute_result",
          "data": {
            "text/plain": [
              "array([2, 4, 6])"
            ]
          },
          "metadata": {},
          "execution_count": 22
        }
      ]
    },
    {
      "cell_type": "code",
      "source": [
        "# 2nd element to 4th element (both including)\n",
        "a1[1:4]"
      ],
      "metadata": {
        "colab": {
          "base_uri": "https://localhost:8080/"
        },
        "id": "wHwByCS1gYtE",
        "outputId": "68ea4278-4684-4b58-dc42-e589e6acc3f8"
      },
      "execution_count": null,
      "outputs": [
        {
          "output_type": "execute_result",
          "data": {
            "text/plain": [
              "array([4, 6, 8])"
            ]
          },
          "metadata": {},
          "execution_count": 23
        }
      ]
    },
    {
      "cell_type": "code",
      "source": [
        "# negative indexing\n",
        "a1[-3:]"
      ],
      "metadata": {
        "colab": {
          "base_uri": "https://localhost:8080/"
        },
        "id": "2Lr8XqV5f6NB",
        "outputId": "31a9f04a-ca9e-4a13-b757-5a152ac21fe3"
      },
      "execution_count": null,
      "outputs": [
        {
          "output_type": "execute_result",
          "data": {
            "text/plain": [
              "array([ 8, 10, 12])"
            ]
          },
          "metadata": {},
          "execution_count": 24
        }
      ]
    },
    {
      "cell_type": "code",
      "source": [
        "# negative indexing - till last 3rd element (excluding)\n",
        "a1[:-3]"
      ],
      "metadata": {
        "colab": {
          "base_uri": "https://localhost:8080/"
        },
        "id": "sj4fng43f_y5",
        "outputId": "338643f8-d849-4b6e-c1ce-dfe0a0d4fcb8"
      },
      "execution_count": null,
      "outputs": [
        {
          "output_type": "execute_result",
          "data": {
            "text/plain": [
              "array([2, 4, 6])"
            ]
          },
          "metadata": {},
          "execution_count": 25
        }
      ]
    },
    {
      "cell_type": "code",
      "source": [
        "# Skipping data with step\n",
        "a1[1:6:2] # start (including), end (excluding), step"
      ],
      "metadata": {
        "colab": {
          "base_uri": "https://localhost:8080/"
        },
        "id": "pB50dr72sb3R",
        "outputId": "c400719b-7b29-4b22-8d07-acdbdb64e5fa"
      },
      "execution_count": null,
      "outputs": [
        {
          "output_type": "execute_result",
          "data": {
            "text/plain": [
              "array([ 4,  8, 12])"
            ]
          },
          "metadata": {},
          "execution_count": 26
        }
      ]
    },
    {
      "cell_type": "code",
      "source": [
        "a1[::3] # every third element"
      ],
      "metadata": {
        "colab": {
          "base_uri": "https://localhost:8080/"
        },
        "id": "ybFmtid_sx2k",
        "outputId": "3452ca21-e4d7-4d28-8001-ea7a6e00e700"
      },
      "execution_count": null,
      "outputs": [
        {
          "output_type": "execute_result",
          "data": {
            "text/plain": [
              "array([2, 8])"
            ]
          },
          "metadata": {},
          "execution_count": 27
        }
      ]
    },
    {
      "cell_type": "markdown",
      "source": [
        "### 2D Slicing"
      ],
      "metadata": {
        "id": "e73lwHYPsQeK"
      }
    },
    {
      "cell_type": "code",
      "source": [
        "# multi dimentional arrays\n",
        "\n",
        "arr = np.array([[1, 2, 3, 4],\n",
        "                [5, 6, 7, 8],\n",
        "                [9, 10, 11, 12]])\n",
        "arr"
      ],
      "metadata": {
        "colab": {
          "base_uri": "https://localhost:8080/"
        },
        "id": "IywjDLvmsUgG",
        "outputId": "24cae350-2c0e-41a0-f89a-8abf3a3886db"
      },
      "execution_count": null,
      "outputs": [
        {
          "output_type": "execute_result",
          "data": {
            "text/plain": [
              "array([[ 1,  2,  3,  4],\n",
              "       [ 5,  6,  7,  8],\n",
              "       [ 9, 10, 11, 12]])"
            ]
          },
          "metadata": {},
          "execution_count": 28
        }
      ]
    },
    {
      "cell_type": "code",
      "source": [
        "# first 2 rows and first 2 colums\n",
        "arr[0:2, 0:2]"
      ],
      "metadata": {
        "colab": {
          "base_uri": "https://localhost:8080/"
        },
        "id": "VRu8ilC-sUaE",
        "outputId": "847d76df-e5fe-44c4-84ae-f73f5737959f"
      },
      "execution_count": null,
      "outputs": [
        {
          "output_type": "execute_result",
          "data": {
            "text/plain": [
              "array([[1, 2],\n",
              "       [5, 6]])"
            ]
          },
          "metadata": {},
          "execution_count": 29
        }
      ]
    },
    {
      "cell_type": "code",
      "source": [
        "# first 2 columns\n",
        "arr[:, :2]"
      ],
      "metadata": {
        "colab": {
          "base_uri": "https://localhost:8080/"
        },
        "id": "OCnIq1vcsUW-",
        "outputId": "a2c80a49-e1f9-4c86-9b12-12c82e408e90"
      },
      "execution_count": null,
      "outputs": [
        {
          "output_type": "execute_result",
          "data": {
            "text/plain": [
              "array([[ 1,  2],\n",
              "       [ 5,  6],\n",
              "       [ 9, 10]])"
            ]
          },
          "metadata": {},
          "execution_count": 30
        }
      ]
    },
    {
      "cell_type": "code",
      "source": [
        "# last 2 columns\n",
        "arr[:, 2:]"
      ],
      "metadata": {
        "colab": {
          "base_uri": "https://localhost:8080/"
        },
        "id": "hU1WbJM0sUUC",
        "outputId": "a62a505c-8e31-435d-f8e5-6fe218fdc2fa"
      },
      "execution_count": null,
      "outputs": [
        {
          "output_type": "execute_result",
          "data": {
            "text/plain": [
              "array([[ 3,  4],\n",
              "       [ 7,  8],\n",
              "       [11, 12]])"
            ]
          },
          "metadata": {},
          "execution_count": 31
        }
      ]
    },
    {
      "cell_type": "code",
      "source": [
        "# first 2 rows\n",
        "arr[:2, :]"
      ],
      "metadata": {
        "colab": {
          "base_uri": "https://localhost:8080/"
        },
        "id": "4w0DcPP2sURD",
        "outputId": "c9f3eca4-821a-441e-b36b-1d790df34b0f"
      },
      "execution_count": null,
      "outputs": [
        {
          "output_type": "execute_result",
          "data": {
            "text/plain": [
              "array([[1, 2, 3, 4],\n",
              "       [5, 6, 7, 8]])"
            ]
          },
          "metadata": {},
          "execution_count": 32
        }
      ]
    },
    {
      "cell_type": "code",
      "source": [
        "# last row\n",
        "arr[2:, :]"
      ],
      "metadata": {
        "colab": {
          "base_uri": "https://localhost:8080/"
        },
        "id": "S4ExUXrWsUN1",
        "outputId": "2049602b-e682-42f0-f124-3199ea507f3f"
      },
      "execution_count": null,
      "outputs": [
        {
          "output_type": "execute_result",
          "data": {
            "text/plain": [
              "array([[ 9, 10, 11, 12]])"
            ]
          },
          "metadata": {},
          "execution_count": 33
        }
      ]
    },
    {
      "cell_type": "code",
      "source": [
        "# 2nd row and 2nd and 3rd column\n",
        "arr[1, 1:3]"
      ],
      "metadata": {
        "colab": {
          "base_uri": "https://localhost:8080/"
        },
        "id": "r4HBJpsFsUK8",
        "outputId": "c3ec2666-1e22-4e04-b940-4ae24a379bb5"
      },
      "execution_count": null,
      "outputs": [
        {
          "output_type": "execute_result",
          "data": {
            "text/plain": [
              "array([6, 7])"
            ]
          },
          "metadata": {},
          "execution_count": 34
        }
      ]
    },
    {
      "cell_type": "markdown",
      "source": [
        "### Indexing"
      ],
      "metadata": {
        "id": "VQV4I-Its77o"
      }
    },
    {
      "cell_type": "code",
      "source": [
        "# Boolean indexing\n",
        "a1[a1 > 3]"
      ],
      "metadata": {
        "id": "HFA3mORygIiM",
        "colab": {
          "base_uri": "https://localhost:8080/"
        },
        "outputId": "8c583662-654a-448a-af26-c4b215276842"
      },
      "execution_count": null,
      "outputs": [
        {
          "output_type": "execute_result",
          "data": {
            "text/plain": [
              "array([ 4,  6,  8, 10, 12])"
            ]
          },
          "metadata": {},
          "execution_count": 35
        }
      ]
    },
    {
      "cell_type": "code",
      "source": [
        "names = np.array(['Bob', 'Joe', 'Will', 'Pete', 'Jim'])\n",
        "names"
      ],
      "metadata": {
        "id": "TL9NUig6gvke",
        "colab": {
          "base_uri": "https://localhost:8080/"
        },
        "outputId": "243601fe-6dd3-4982-ff32-5c1ff8f4c6de"
      },
      "execution_count": null,
      "outputs": [
        {
          "output_type": "execute_result",
          "data": {
            "text/plain": [
              "array(['Bob', 'Joe', 'Will', 'Pete', 'Jim'], dtype='<U4')"
            ]
          },
          "metadata": {},
          "execution_count": 36
        }
      ]
    },
    {
      "cell_type": "code",
      "source": [
        "# get all the names starting with letter \"J\"\n",
        "first_letter_j = np.vectorize(lambda x: x[0])(names) == \"J\"\n",
        "first_letter_j\n",
        "\n",
        "# np.vectorize is like a for loop with lambda function which will give an array with first letter when we pass names array to it\n",
        "# example ['B','J','W','P','W']\n",
        "# check which of the elements are equal to J will give us a boolean array\n"
      ],
      "metadata": {
        "id": "5UgqAenKg7FC",
        "colab": {
          "base_uri": "https://localhost:8080/"
        },
        "outputId": "6f727539-66b3-4da0-ed98-acf64d9ddf5f"
      },
      "execution_count": null,
      "outputs": [
        {
          "output_type": "execute_result",
          "data": {
            "text/plain": [
              "array([False,  True, False, False,  True])"
            ]
          },
          "metadata": {},
          "execution_count": 37
        }
      ]
    },
    {
      "cell_type": "code",
      "source": [
        "# now let us apply the boolean array to names to get all the names starting with J\n",
        "names[first_letter_j]"
      ],
      "metadata": {
        "id": "EBKDPQBChyan",
        "colab": {
          "base_uri": "https://localhost:8080/"
        },
        "outputId": "651cbbca-eda6-479b-c628-537afe4c1b0c"
      },
      "execution_count": null,
      "outputs": [
        {
          "output_type": "execute_result",
          "data": {
            "text/plain": [
              "array(['Joe', 'Jim'], dtype='<U4')"
            ]
          },
          "metadata": {},
          "execution_count": 38
        }
      ]
    },
    {
      "cell_type": "code",
      "source": [
        "a1"
      ],
      "metadata": {
        "id": "eLze3G-ji64g",
        "colab": {
          "base_uri": "https://localhost:8080/"
        },
        "outputId": "9d7552f7-fe3e-47a8-b513-91a7edf18e25"
      },
      "execution_count": null,
      "outputs": [
        {
          "output_type": "execute_result",
          "data": {
            "text/plain": [
              "array([ 2,  4,  6,  8, 10, 12])"
            ]
          },
          "metadata": {},
          "execution_count": 39
        }
      ]
    },
    {
      "cell_type": "code",
      "source": [
        "a1 % 4"
      ],
      "metadata": {
        "id": "kI-Lj4D_jC9R",
        "colab": {
          "base_uri": "https://localhost:8080/"
        },
        "outputId": "cf3efa15-0a17-4843-de22-a3a3666b3baf"
      },
      "execution_count": null,
      "outputs": [
        {
          "output_type": "execute_result",
          "data": {
            "text/plain": [
              "array([2, 0, 2, 0, 2, 0])"
            ]
          },
          "metadata": {},
          "execution_count": 40
        }
      ]
    },
    {
      "cell_type": "code",
      "source": [
        "# to get all the elements that are divisible by 4\n",
        "a1[a1 % 4 == 0]"
      ],
      "metadata": {
        "id": "K_m08xf2jEnJ",
        "colab": {
          "base_uri": "https://localhost:8080/"
        },
        "outputId": "1ef08843-4c42-4941-c665-c6366ed1b7fd"
      },
      "execution_count": null,
      "outputs": [
        {
          "output_type": "execute_result",
          "data": {
            "text/plain": [
              "array([ 4,  8, 12])"
            ]
          },
          "metadata": {},
          "execution_count": 41
        }
      ]
    },
    {
      "cell_type": "markdown",
      "source": [
        "## Numarical Function"
      ],
      "metadata": {
        "id": "xrg9vQettoeg"
      }
    },
    {
      "cell_type": "code",
      "source": [
        "# square root\n",
        "a = np.array([1,2,3,4,5,6,7,8,9])\n",
        "np.sqrt(a)"
      ],
      "metadata": {
        "colab": {
          "base_uri": "https://localhost:8080/"
        },
        "id": "7aSKCMR7t1JK",
        "outputId": "4305efb0-368a-48f2-a14b-3b7ae4304a20"
      },
      "execution_count": null,
      "outputs": [
        {
          "output_type": "execute_result",
          "data": {
            "text/plain": [
              "array([1.        , 1.41421356, 1.73205081, 2.        , 2.23606798,\n",
              "       2.44948974, 2.64575131, 2.82842712, 3.        ])"
            ]
          },
          "metadata": {},
          "execution_count": 42
        }
      ]
    },
    {
      "cell_type": "code",
      "source": [
        "# absolute value\n",
        "b = np.array([-1, -2, -3, -4, -5])\n",
        "np.abs(b)"
      ],
      "metadata": {
        "colab": {
          "base_uri": "https://localhost:8080/"
        },
        "id": "MW6905kEt6O7",
        "outputId": "84a6f02c-ec9f-444d-ccf5-548c4661ba55"
      },
      "execution_count": null,
      "outputs": [
        {
          "output_type": "execute_result",
          "data": {
            "text/plain": [
              "array([1, 2, 3, 4, 5])"
            ]
          },
          "metadata": {},
          "execution_count": 43
        }
      ]
    },
    {
      "cell_type": "markdown",
      "source": [
        "exponents = $e^x$\n",
        "\n",
        "where e is eular number"
      ],
      "metadata": {
        "id": "BCOH9PXvuCsj"
      }
    },
    {
      "cell_type": "code",
      "source": [
        "# exponents values\n",
        "np.exp(a)"
      ],
      "metadata": {
        "colab": {
          "base_uri": "https://localhost:8080/"
        },
        "id": "kS4O6eoUt-Zg",
        "outputId": "6934962c-46d1-415c-ba10-8545cb091654"
      },
      "execution_count": null,
      "outputs": [
        {
          "output_type": "execute_result",
          "data": {
            "text/plain": [
              "array([2.71828183e+00, 7.38905610e+00, 2.00855369e+01, 5.45981500e+01,\n",
              "       1.48413159e+02, 4.03428793e+02, 1.09663316e+03, 2.98095799e+03,\n",
              "       8.10308393e+03])"
            ]
          },
          "metadata": {},
          "execution_count": 44
        }
      ]
    },
    {
      "cell_type": "code",
      "source": [
        "# min\n",
        "np.min(a)"
      ],
      "metadata": {
        "colab": {
          "base_uri": "https://localhost:8080/"
        },
        "id": "huCXTK-luBgK",
        "outputId": "56417feb-8f10-4c41-9450-19077e0bf986"
      },
      "execution_count": null,
      "outputs": [
        {
          "output_type": "execute_result",
          "data": {
            "text/plain": [
              "np.int64(1)"
            ]
          },
          "metadata": {},
          "execution_count": 45
        }
      ]
    },
    {
      "cell_type": "code",
      "source": [
        "np.max(a)"
      ],
      "metadata": {
        "colab": {
          "base_uri": "https://localhost:8080/"
        },
        "id": "coKNQnHYuI_G",
        "outputId": "b9c3c2e7-6be7-4689-a35a-e811bcc6d61f"
      },
      "execution_count": null,
      "outputs": [
        {
          "output_type": "execute_result",
          "data": {
            "text/plain": [
              "np.int64(9)"
            ]
          },
          "metadata": {},
          "execution_count": 46
        }
      ]
    },
    {
      "cell_type": "code",
      "source": [
        "# Positive\n",
        "np.sign(a)"
      ],
      "metadata": {
        "colab": {
          "base_uri": "https://localhost:8080/"
        },
        "id": "T8wtHBy4uK7Q",
        "outputId": "ee9723a1-753c-48f4-ed89-70e6fe89773c"
      },
      "execution_count": null,
      "outputs": [
        {
          "output_type": "execute_result",
          "data": {
            "text/plain": [
              "array([1, 1, 1, 1, 1, 1, 1, 1, 1])"
            ]
          },
          "metadata": {},
          "execution_count": 47
        }
      ]
    },
    {
      "cell_type": "code",
      "source": [
        "# Negative\n",
        "np.sign(b)"
      ],
      "metadata": {
        "colab": {
          "base_uri": "https://localhost:8080/"
        },
        "id": "XIjh8hQ3uNKb",
        "outputId": "003852d3-3e3e-48b8-93b3-256e4c88a888"
      },
      "execution_count": null,
      "outputs": [
        {
          "output_type": "execute_result",
          "data": {
            "text/plain": [
              "array([-1, -1, -1, -1, -1])"
            ]
          },
          "metadata": {},
          "execution_count": 48
        }
      ]
    },
    {
      "cell_type": "code",
      "source": [
        "# sin, cos, log\n",
        "np.sin(a)"
      ],
      "metadata": {
        "colab": {
          "base_uri": "https://localhost:8080/"
        },
        "id": "8HuN1L-5uVbl",
        "outputId": "3a000a2b-951a-49fd-d9ac-012d15c41ca8"
      },
      "execution_count": null,
      "outputs": [
        {
          "output_type": "execute_result",
          "data": {
            "text/plain": [
              "array([ 0.84147098,  0.90929743,  0.14112001, -0.7568025 , -0.95892427,\n",
              "       -0.2794155 ,  0.6569866 ,  0.98935825,  0.41211849])"
            ]
          },
          "metadata": {},
          "execution_count": 49
        }
      ]
    },
    {
      "cell_type": "code",
      "source": [
        "np.cos(a)"
      ],
      "metadata": {
        "colab": {
          "base_uri": "https://localhost:8080/"
        },
        "id": "_R1F1Enouby7",
        "outputId": "0a497e9d-54c1-4d7f-f8eb-e0aff80fdd3e"
      },
      "execution_count": null,
      "outputs": [
        {
          "output_type": "execute_result",
          "data": {
            "text/plain": [
              "array([ 0.54030231, -0.41614684, -0.9899925 , -0.65364362,  0.28366219,\n",
              "        0.96017029,  0.75390225, -0.14550003, -0.91113026])"
            ]
          },
          "metadata": {},
          "execution_count": 50
        }
      ]
    },
    {
      "cell_type": "code",
      "source": [
        "np.log(a)"
      ],
      "metadata": {
        "colab": {
          "base_uri": "https://localhost:8080/"
        },
        "id": "a0MMcM_LudCd",
        "outputId": "671ecba0-7514-4d29-ac7c-72c298f40d9c"
      },
      "execution_count": null,
      "outputs": [
        {
          "output_type": "execute_result",
          "data": {
            "text/plain": [
              "array([0.        , 0.69314718, 1.09861229, 1.38629436, 1.60943791,\n",
              "       1.79175947, 1.94591015, 2.07944154, 2.19722458])"
            ]
          },
          "metadata": {},
          "execution_count": 51
        }
      ]
    },
    {
      "cell_type": "markdown",
      "source": [
        "## Copy and View"
      ],
      "metadata": {
        "id": "7ZqxvL8NuiZU"
      }
    },
    {
      "cell_type": "code",
      "source": [
        "a_view = a.view()\n",
        "a_copy = a.copy()\n",
        "print(a)\n",
        "print(a_view)\n",
        "print(a_copy)"
      ],
      "metadata": {
        "colab": {
          "base_uri": "https://localhost:8080/"
        },
        "id": "DocEfK6SueWt",
        "outputId": "7bd451af-e928-484a-fd64-4234a8e1077e"
      },
      "execution_count": null,
      "outputs": [
        {
          "output_type": "stream",
          "name": "stdout",
          "text": [
            "[1 2 3 4 5 6 7 8 9]\n",
            "[1 2 3 4 5 6 7 8 9]\n",
            "[1 2 3 4 5 6 7 8 9]\n"
          ]
        }
      ]
    },
    {
      "cell_type": "code",
      "source": [
        "a[0]= 41\n",
        "print(a)\n",
        "print(a_view)\n",
        "print(a_copy)"
      ],
      "metadata": {
        "colab": {
          "base_uri": "https://localhost:8080/"
        },
        "id": "iKdFvG-5upTb",
        "outputId": "9493136b-727b-48f8-e400-8f799af7848e"
      },
      "execution_count": null,
      "outputs": [
        {
          "output_type": "stream",
          "name": "stdout",
          "text": [
            "[41  2  3  4  5  6  7  8  9]\n",
            "[41  2  3  4  5  6  7  8  9]\n",
            "[1 2 3 4 5 6 7 8 9]\n"
          ]
        }
      ]
    },
    {
      "cell_type": "code",
      "source": [
        "a_copy[0] = 42\n",
        "print(a)\n",
        "print(a_view)\n",
        "print(a_copy)"
      ],
      "metadata": {
        "colab": {
          "base_uri": "https://localhost:8080/"
        },
        "id": "0Vmm-zOwurqm",
        "outputId": "6d48ada9-1f15-438e-9a6c-50c00f481b9b"
      },
      "execution_count": null,
      "outputs": [
        {
          "output_type": "stream",
          "name": "stdout",
          "text": [
            "[41  2  3  4  5  6  7  8  9]\n",
            "[41  2  3  4  5  6  7  8  9]\n",
            "[42  2  3  4  5  6  7  8  9]\n"
          ]
        }
      ]
    },
    {
      "cell_type": "markdown",
      "source": [
        "## Shaping and Reshaping"
      ],
      "metadata": {
        "id": "conRwolOu1Mh"
      }
    },
    {
      "cell_type": "code",
      "source": [
        "# shape\n",
        "a.shape"
      ],
      "metadata": {
        "colab": {
          "base_uri": "https://localhost:8080/"
        },
        "id": "mXm0njJJuv1Q",
        "outputId": "2132edc4-6d4d-43b4-aa09-7edb1b6e7dab"
      },
      "execution_count": null,
      "outputs": [
        {
          "output_type": "execute_result",
          "data": {
            "text/plain": [
              "(9,)"
            ]
          },
          "metadata": {},
          "execution_count": 55
        }
      ]
    },
    {
      "cell_type": "code",
      "source": [
        "arr.shape"
      ],
      "metadata": {
        "colab": {
          "base_uri": "https://localhost:8080/"
        },
        "id": "TcximSACvKSX",
        "outputId": "950b8a7b-8e3e-4dfc-e417-0de033f7cb53"
      },
      "execution_count": null,
      "outputs": [
        {
          "output_type": "execute_result",
          "data": {
            "text/plain": [
              "(3, 4)"
            ]
          },
          "metadata": {},
          "execution_count": 56
        }
      ]
    },
    {
      "cell_type": "code",
      "source": [
        "# reshape 1d array into 2d\n",
        "a.reshape(3,3)"
      ],
      "metadata": {
        "colab": {
          "base_uri": "https://localhost:8080/"
        },
        "id": "az8zV7LFvMwV",
        "outputId": "20d94b74-da78-41c0-89fc-1ba0e8748903"
      },
      "execution_count": null,
      "outputs": [
        {
          "output_type": "execute_result",
          "data": {
            "text/plain": [
              "array([[41,  2,  3],\n",
              "       [ 4,  5,  6],\n",
              "       [ 7,  8,  9]])"
            ]
          },
          "metadata": {},
          "execution_count": 57
        }
      ]
    },
    {
      "cell_type": "code",
      "source": [
        "new_arr = np.array([1,2,3,4,5,6,7,8])\n",
        "new_arr"
      ],
      "metadata": {
        "colab": {
          "base_uri": "https://localhost:8080/"
        },
        "id": "UwYqj7YsvPvB",
        "outputId": "f1c8bc3e-9d7c-4520-a3c8-2db650cbc65b"
      },
      "execution_count": null,
      "outputs": [
        {
          "output_type": "execute_result",
          "data": {
            "text/plain": [
              "array([1, 2, 3, 4, 5, 6, 7, 8])"
            ]
          },
          "metadata": {},
          "execution_count": 58
        }
      ]
    },
    {
      "cell_type": "code",
      "source": [
        "# reshape 1d array into 3d\n",
        "np3 = new_arr.reshape(2,2,2)\n",
        "np3"
      ],
      "metadata": {
        "colab": {
          "base_uri": "https://localhost:8080/"
        },
        "id": "4mY5ZfE6vSLr",
        "outputId": "25b910d6-86c8-4008-8315-daf96ce78209"
      },
      "execution_count": null,
      "outputs": [
        {
          "output_type": "execute_result",
          "data": {
            "text/plain": [
              "array([[[1, 2],\n",
              "        [3, 4]],\n",
              "\n",
              "       [[5, 6],\n",
              "        [7, 8]]])"
            ]
          },
          "metadata": {},
          "execution_count": 59
        }
      ]
    },
    {
      "cell_type": "code",
      "source": [
        "np3.reshape(-1)"
      ],
      "metadata": {
        "id": "wbj_hZosvU4J",
        "outputId": "e28d0ea7-6eb0-4475-8cb7-730dd8524be6",
        "colab": {
          "base_uri": "https://localhost:8080/"
        }
      },
      "execution_count": null,
      "outputs": [
        {
          "output_type": "execute_result",
          "data": {
            "text/plain": [
              "array([1, 2, 3, 4, 5, 6, 7, 8])"
            ]
          },
          "metadata": {},
          "execution_count": 60
        }
      ]
    },
    {
      "cell_type": "markdown",
      "source": [
        "## Interating through numpy arrays"
      ],
      "metadata": {
        "id": "0yFH_iRqvo97"
      }
    },
    {
      "cell_type": "code",
      "source": [
        "# loop through 1d array\n",
        "for x in a1:\n",
        "    print(x)"
      ],
      "metadata": {
        "id": "629WAWrYvXXm",
        "colab": {
          "base_uri": "https://localhost:8080/"
        },
        "outputId": "f3fb9df4-ccd1-4be5-cfbe-ac4fc7878e90"
      },
      "execution_count": null,
      "outputs": [
        {
          "output_type": "stream",
          "name": "stdout",
          "text": [
            "2\n",
            "4\n",
            "6\n",
            "8\n",
            "10\n",
            "12\n"
          ]
        }
      ]
    },
    {
      "cell_type": "code",
      "source": [
        "# loop through 2d array\n",
        "for x in arr:\n",
        "    # print(x)\n",
        "    for y in x:\n",
        "        print(y)"
      ],
      "metadata": {
        "colab": {
          "base_uri": "https://localhost:8080/"
        },
        "id": "WxoOoNA3v4xr",
        "outputId": "d4c7f465-948f-4f71-9559-1c4a16f3a5e3"
      },
      "execution_count": null,
      "outputs": [
        {
          "output_type": "stream",
          "name": "stdout",
          "text": [
            "1\n",
            "2\n",
            "3\n",
            "4\n",
            "5\n",
            "6\n",
            "7\n",
            "8\n",
            "9\n",
            "10\n",
            "11\n",
            "12\n"
          ]
        }
      ]
    },
    {
      "cell_type": "code",
      "source": [
        "# loop through 3d array\n",
        "\n",
        "for x in np3:\n",
        "    # print(x)\n",
        "    for y in x:\n",
        "        # print(y)\n",
        "        for z in y:\n",
        "            print(z)"
      ],
      "metadata": {
        "colab": {
          "base_uri": "https://localhost:8080/"
        },
        "id": "XpYn0dlQwFBZ",
        "outputId": "b4ac318e-f02f-4732-eeaf-2a0bc2eb04ed"
      },
      "execution_count": null,
      "outputs": [
        {
          "output_type": "stream",
          "name": "stdout",
          "text": [
            "1\n",
            "2\n",
            "3\n",
            "4\n",
            "5\n",
            "6\n",
            "7\n",
            "8\n"
          ]
        }
      ]
    },
    {
      "cell_type": "code",
      "source": [
        "# using np.nditer it will iterate over N D array easily\n",
        "\n",
        "for x in np.nditer(np3):\n",
        "    print(x)"
      ],
      "metadata": {
        "colab": {
          "base_uri": "https://localhost:8080/"
        },
        "id": "DMRaod7dwY1H",
        "outputId": "869541ef-29e0-4ed1-eec3-5ba429dc4b24"
      },
      "execution_count": null,
      "outputs": [
        {
          "output_type": "stream",
          "name": "stdout",
          "text": [
            "1\n",
            "2\n",
            "3\n",
            "4\n",
            "5\n",
            "6\n",
            "7\n",
            "8\n"
          ]
        }
      ]
    },
    {
      "cell_type": "markdown",
      "source": [
        "## Sorting in numpy arrays"
      ],
      "metadata": {
        "id": "LgkcO_2EHh_p"
      }
    },
    {
      "cell_type": "code",
      "source": [
        "# sorting numbers\n",
        "a2 = np.array([3, 2, 0, 1, 8, 4, 6, 5])\n",
        "a2"
      ],
      "metadata": {
        "colab": {
          "base_uri": "https://localhost:8080/"
        },
        "id": "EmsEOyASHbKS",
        "outputId": "eb26dcb5-6050-4de0-edb4-974820fec292"
      },
      "execution_count": null,
      "outputs": [
        {
          "output_type": "execute_result",
          "data": {
            "text/plain": [
              "array([3, 2, 0, 1, 8, 4, 6, 5])"
            ]
          },
          "metadata": {},
          "execution_count": 67
        }
      ]
    },
    {
      "cell_type": "code",
      "source": [
        "np.sort(a2)"
      ],
      "metadata": {
        "colab": {
          "base_uri": "https://localhost:8080/"
        },
        "id": "Gzf-PnRRHsAn",
        "outputId": "42bf199f-29ed-4c38-92c8-0a39b86ba609"
      },
      "execution_count": null,
      "outputs": [
        {
          "output_type": "execute_result",
          "data": {
            "text/plain": [
              "array([0, 1, 2, 3, 4, 5, 6, 8])"
            ]
          },
          "metadata": {},
          "execution_count": 68
        }
      ]
    },
    {
      "cell_type": "code",
      "source": [
        "# sorting alphabets - can also sort boolean arrays\n",
        "a3 = np.array(['bob', 'joe', 'will', 'pete', 'jim'])\n",
        "a3"
      ],
      "metadata": {
        "colab": {
          "base_uri": "https://localhost:8080/"
        },
        "id": "jpbUgfzGH0zY",
        "outputId": "45837949-5a8d-47fe-cfb7-7ca1237d94f4"
      },
      "execution_count": null,
      "outputs": [
        {
          "output_type": "execute_result",
          "data": {
            "text/plain": [
              "array(['bob', 'joe', 'will', 'pete', 'jim'], dtype='<U4')"
            ]
          },
          "metadata": {},
          "execution_count": 69
        }
      ]
    },
    {
      "cell_type": "code",
      "source": [
        "np.sort(a3)"
      ],
      "metadata": {
        "colab": {
          "base_uri": "https://localhost:8080/"
        },
        "id": "8TBZppdNIKYQ",
        "outputId": "278bfd49-37c3-444f-d440-e0ad90bc010c"
      },
      "execution_count": null,
      "outputs": [
        {
          "output_type": "execute_result",
          "data": {
            "text/plain": [
              "array(['bob', 'jim', 'joe', 'pete', 'will'], dtype='<U4')"
            ]
          },
          "metadata": {},
          "execution_count": 70
        }
      ]
    },
    {
      "cell_type": "code",
      "source": [
        "# Sorting 2D arrays\n",
        "\n",
        "np5 = np.array([[8, 2, 6], [4, 1, 3]])\n",
        "print(np5)\n",
        "print(np.sort(np5))"
      ],
      "metadata": {
        "colab": {
          "base_uri": "https://localhost:8080/"
        },
        "id": "zRGKNut6IN8v",
        "outputId": "341cafb5-7b6d-4714-9afb-993d9d415cd1"
      },
      "execution_count": null,
      "outputs": [
        {
          "output_type": "stream",
          "name": "stdout",
          "text": [
            "[[8 2 6]\n",
            " [4 1 3]]\n",
            "[[2 6 8]\n",
            " [1 3 4]]\n"
          ]
        }
      ]
    },
    {
      "cell_type": "markdown",
      "source": [
        "## Searching"
      ],
      "metadata": {
        "id": "fabxyO2XJK6C"
      }
    },
    {
      "cell_type": "code",
      "source": [
        "a1"
      ],
      "metadata": {
        "colab": {
          "base_uri": "https://localhost:8080/"
        },
        "id": "AXif56y7I6nD",
        "outputId": "70145ec6-7b8d-4d8e-8fa8-2f5bd9307eb8"
      },
      "execution_count": null,
      "outputs": [
        {
          "output_type": "execute_result",
          "data": {
            "text/plain": [
              "array([ 2,  4,  6,  8, 10, 12])"
            ]
          },
          "metadata": {},
          "execution_count": 72
        }
      ]
    },
    {
      "cell_type": "code",
      "source": [
        "x = np.where(a1 == 4)\n",
        "print(x)\n",
        "print(x[0])"
      ],
      "metadata": {
        "colab": {
          "base_uri": "https://localhost:8080/"
        },
        "id": "DhBqgAY6JNaJ",
        "outputId": "4bb6bf77-595c-4fae-98dd-62b88037efb5"
      },
      "execution_count": null,
      "outputs": [
        {
          "output_type": "stream",
          "name": "stdout",
          "text": [
            "(array([1]),)\n",
            "[1]\n"
          ]
        }
      ]
    },
    {
      "cell_type": "code",
      "source": [
        "a1 = np.append(a1, 4)"
      ],
      "metadata": {
        "id": "O3e3ucTvJR_8"
      },
      "execution_count": null,
      "outputs": []
    },
    {
      "cell_type": "code",
      "source": [
        "a1"
      ],
      "metadata": {
        "colab": {
          "base_uri": "https://localhost:8080/"
        },
        "id": "h2liGQYbKkOH",
        "outputId": "ba16abdc-00e1-483b-e505-2fea2fc3bc7c"
      },
      "execution_count": null,
      "outputs": [
        {
          "output_type": "execute_result",
          "data": {
            "text/plain": [
              "array([ 2,  4,  6,  8, 10, 12,  4])"
            ]
          },
          "metadata": {},
          "execution_count": 84
        }
      ]
    },
    {
      "cell_type": "code",
      "source": [
        "x = np.where(a1 == 4)\n",
        "print(x)"
      ],
      "metadata": {
        "colab": {
          "base_uri": "https://localhost:8080/"
        },
        "id": "HG5IGnATJkv3",
        "outputId": "0955a299-8be9-46f1-a4d3-3dc734a9df64"
      },
      "execution_count": null,
      "outputs": [
        {
          "output_type": "stream",
          "name": "stdout",
          "text": [
            "(array([1, 6]),)\n"
          ]
        }
      ]
    },
    {
      "cell_type": "code",
      "source": [
        "print(x[0])\n",
        "print(a1[x[0]])"
      ],
      "metadata": {
        "colab": {
          "base_uri": "https://localhost:8080/"
        },
        "id": "yFW6fbkeKeO3",
        "outputId": "50b7bc80-b045-434e-f2d2-7e16168a4f78"
      },
      "execution_count": null,
      "outputs": [
        {
          "output_type": "stream",
          "name": "stdout",
          "text": [
            "[1 6]\n",
            "[4 4]\n"
          ]
        }
      ]
    },
    {
      "cell_type": "code",
      "source": [
        "even = np.where(a2 % 2 == 0 )"
      ],
      "metadata": {
        "id": "OnfhNoXBKtL-"
      },
      "execution_count": null,
      "outputs": []
    },
    {
      "cell_type": "code",
      "source": [
        "a2[even[0]]"
      ],
      "metadata": {
        "colab": {
          "base_uri": "https://localhost:8080/"
        },
        "id": "9mCFELdQLKqO",
        "outputId": "4a4f6ac4-fda1-479f-e1c9-4a0142e4bfcb"
      },
      "execution_count": null,
      "outputs": [
        {
          "output_type": "execute_result",
          "data": {
            "text/plain": [
              "array([2, 0, 8, 4, 6])"
            ]
          },
          "metadata": {},
          "execution_count": 94
        }
      ]
    },
    {
      "cell_type": "code",
      "source": [
        "odd = np.where(a2 % 2 == 1 )\n",
        "a2[odd[0]]"
      ],
      "metadata": {
        "colab": {
          "base_uri": "https://localhost:8080/"
        },
        "id": "5FajEVcRLpyX",
        "outputId": "b57e9b02-0da0-4c76-cdae-7de1b4744c02"
      },
      "execution_count": null,
      "outputs": [
        {
          "output_type": "execute_result",
          "data": {
            "text/plain": [
              "array([3, 1, 5])"
            ]
          },
          "metadata": {},
          "execution_count": 95
        }
      ]
    },
    {
      "cell_type": "markdown",
      "source": [
        "## Filtering"
      ],
      "metadata": {
        "id": "2b5O59GVL4Io"
      }
    },
    {
      "cell_type": "code",
      "source": [
        "np7 = np.array([1, 2, 3, 4, 5, 6, 7, 8, 9, 10])\n",
        "x = [True, False, True, False, True, False, True, False, True, False]\n",
        "print(x)\n",
        "print(np7)\n",
        "print(np7[x])"
      ],
      "metadata": {
        "colab": {
          "base_uri": "https://localhost:8080/"
        },
        "id": "AV_y2ljSL3hx",
        "outputId": "0566e2b3-c669-43be-be11-709e67e8522f"
      },
      "execution_count": null,
      "outputs": [
        {
          "output_type": "stream",
          "name": "stdout",
          "text": [
            "[True, False, True, False, True, False, True, False, True, False]\n",
            "[ 1  2  3  4  5  6  7  8  9 10]\n",
            "[1 3 5 7 9]\n"
          ]
        }
      ]
    },
    {
      "cell_type": "code",
      "source": [
        "filtered = []\n",
        "\n",
        "for element in np7:\n",
        "    if element % 2 == 0:\n",
        "        filtered.append(True)\n",
        "    else:\n",
        "        filtered.append(False)\n",
        "\n",
        "print(filtered)\n",
        "print(np7)\n",
        "print(np7[filtered])"
      ],
      "metadata": {
        "colab": {
          "base_uri": "https://localhost:8080/"
        },
        "id": "J1qiOmkaN56z",
        "outputId": "8940836d-640c-456c-b0c3-9c3e8c16e450"
      },
      "execution_count": null,
      "outputs": [
        {
          "output_type": "stream",
          "name": "stdout",
          "text": [
            "[False, True, False, True, False, True, False, True, False, True]\n",
            "[ 1  2  3  4  5  6  7  8  9 10]\n",
            "[ 2  4  6  8 10]\n"
          ]
        }
      ]
    },
    {
      "cell_type": "code",
      "source": [
        "# shortcut using numpy\n",
        "\n",
        "filtered = np7 % 2 == 0\n",
        "print(filtered)\n",
        "print(np7)\n",
        "print(np7[filtered])"
      ],
      "metadata": {
        "colab": {
          "base_uri": "https://localhost:8080/"
        },
        "id": "42A6PKMxOU2g",
        "outputId": "baa78dfb-68e5-4370-cda3-04401430083a"
      },
      "execution_count": null,
      "outputs": [
        {
          "output_type": "stream",
          "name": "stdout",
          "text": [
            "[False  True False  True False  True False  True False  True]\n",
            "[ 1  2  3  4  5  6  7  8  9 10]\n",
            "[ 2  4  6  8 10]\n"
          ]
        }
      ]
    },
    {
      "cell_type": "code",
      "source": [
        "filtered = np7 > 5\n",
        "print(filtered)\n",
        "print(np7)\n",
        "print(np7[filtered])"
      ],
      "metadata": {
        "colab": {
          "base_uri": "https://localhost:8080/"
        },
        "id": "5WbanByOO1Z2",
        "outputId": "7fe09a54-1706-4bf3-c1e6-ca22428ae3cb"
      },
      "execution_count": null,
      "outputs": [
        {
          "output_type": "stream",
          "name": "stdout",
          "text": [
            "[False False False False False  True  True  True  True  True]\n",
            "[ 1  2  3  4  5  6  7  8  9 10]\n",
            "[ 6  7  8  9 10]\n"
          ]
        }
      ]
    },
    {
      "cell_type": "code",
      "source": [],
      "metadata": {
        "id": "wxD_4bFkO5V8"
      },
      "execution_count": null,
      "outputs": []
    }
  ]
}